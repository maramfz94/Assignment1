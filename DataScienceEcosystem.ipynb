{
  "nbformat": 4,
  "nbformat_minor": 0,
  "metadata": {
    "colab": {
      "provenance": []
    },
    "kernelspec": {
      "name": "python3",
      "display_name": "Python 3"
    },
    "language_info": {
      "name": "python"
    }
  },
  "cells": [
    {
      "cell_type": "markdown",
      "source": [
        "#Data Science Tools and Ecosystem"
      ],
      "metadata": {
        "id": "0H-I1wKrFl_h"
      }
    },
    {
      "cell_type": "markdown",
      "source": [
        "In this notebook, Data Science Tools and Ecosystem are summarized.\\\n",
        "Some of the popular languages that Data Scientists use are:\n",
        "1. Python\n",
        "2. R\n",
        "3. SQL\n",
        "\n"
      ],
      "metadata": {
        "id": "ZtiSqNWuGr_x"
      }
    },
    {
      "cell_type": "markdown",
      "source": [
        "Some of the commonly used libraries used by Data Scientists include:\n",
        "- Pandas\n",
        "- NumPy\n",
        "- sklearn"
      ],
      "metadata": {
        "id": "WNJAV7fBHPG3"
      }
    },
    {
      "cell_type": "markdown",
      "source": [
        "| Data Science Tools |\n",
        "| ----------- |\n",
        "| python |\n",
        "| spark |\n",
        "| Apche Hadoop|\n",
        "|TensorFlow|"
      ],
      "metadata": {
        "id": "YLb4OgT8Ih3e"
      }
    },
    {
      "cell_type": "markdown",
      "source": [
        "Below are a few examples of evaluating arithmetic expressions in Python.\n"
      ],
      "metadata": {
        "id": "aUOE75aTJWKN"
      }
    },
    {
      "cell_type": "code",
      "execution_count": 16,
      "metadata": {
        "id": "oSXo65p6a5A9",
        "outputId": "9307b3b6-bf08-421f-a7e8-5bbb6e25f174",
        "colab": {
          "base_uri": "https://localhost:8080/"
        }
      },
      "outputs": [
        {
          "output_type": "execute_result",
          "data": {
            "text/plain": [
              "17"
            ]
          },
          "metadata": {},
          "execution_count": 16
        }
      ],
      "source": [
        "#This a simple arithmetic expression to mutiply then add integers\n",
        "(3*4)+5"
      ]
    },
    {
      "cell_type": "code",
      "source": [
        "#This will convert 200 minutes to hours by diving by 60\n",
        "200/60"
      ],
      "metadata": {
        "colab": {
          "base_uri": "https://localhost:8080/"
        },
        "id": "i5GdcvR9Jzpk",
        "outputId": "9e669e2a-433b-436e-dd66-056721ab19ab"
      },
      "execution_count": 17,
      "outputs": [
        {
          "output_type": "execute_result",
          "data": {
            "text/plain": [
              "3.3333333333333335"
            ]
          },
          "metadata": {},
          "execution_count": 17
        }
      ]
    },
    {
      "cell_type": "markdown",
      "source": [
        "List popular languages for Data Science:\n",
        "- python\n",
        "- R\n",
        "- SQL"
      ],
      "metadata": {
        "id": "hu_VGe-FKHg-"
      }
    },
    {
      "cell_type": "markdown",
      "source": [
        "## Maram Alzahrani"
      ],
      "metadata": {
        "id": "oCvhLTD_KVN3"
      }
    }
  ]
}